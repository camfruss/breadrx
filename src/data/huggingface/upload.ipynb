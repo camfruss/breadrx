{
 "cells": [
  {
   "cell_type": "code",
   "execution_count": 1,
   "id": "initial_id",
   "metadata": {
    "collapsed": true,
    "ExecuteTime": {
     "end_time": "2024-07-28T18:02:00.428183Z",
     "start_time": "2024-07-28T18:01:58.684628Z"
    }
   },
   "outputs": [],
   "source": [
    "import os\n",
    "\n",
    "import datasets\n",
    "from huggingface_hub import HfApi\n",
    "import pandas as pd\n",
    "\n",
    "from dotenv import find_dotenv, load_dotenv\n",
    "env_path = find_dotenv(\".env\")\n",
    "load_dotenv(env_path);"
   ]
  },
  {
   "cell_type": "code",
   "execution_count": 2,
   "outputs": [
    {
     "data": {
      "text/plain": "CommitInfo(commit_url='https://huggingface.co/datasets/camfruss/bread_proofing/commit/9420f28a598fcf1af7967c9219d8664a1c8684f0', commit_message='Delete folder data/ with huggingface_hub', commit_description='', oid='9420f28a598fcf1af7967c9219d8664a1c8684f0', pr_url=None, pr_revision=None, pr_num=None)"
     },
     "execution_count": 2,
     "metadata": {},
     "output_type": "execute_result"
    }
   ],
   "source": [
    "token = os.environ.get(\"HUGGING_FACE_TOKEN\")\n",
    "hf_api = HfApi(token=token)\n",
    "\n",
    "repo_id = \"camfruss/bread_proofing\"\n",
    "hf_api.list_repo_files(repo_id, repo_type=\"dataset\")\n",
    "\n",
    "# hf_api.delete_folder(path_in_repo=\"data/\", repo_id=repo_id, repo_type=\"dataset\")\n",
    "# hf_api.delete_file(path_in_repo=\"dataset_script.py\", repo_id=repo_id, repo_type=\"dataset\")"
   ],
   "metadata": {
    "collapsed": false,
    "ExecuteTime": {
     "end_time": "2024-07-28T18:02:02.178665Z",
     "start_time": "2024-07-28T18:02:01.429954Z"
    }
   },
   "id": "2773229c703e5071"
  },
  {
   "cell_type": "code",
   "execution_count": 3,
   "outputs": [],
   "source": [
    "df = pd.read_csv(\"./metadata.csv\")\n",
    "df = df.rename(columns={\"file_name\": \"image\"})"
   ],
   "metadata": {
    "collapsed": false,
    "ExecuteTime": {
     "end_time": "2024-07-28T18:02:11.335247Z",
     "start_time": "2024-07-28T18:02:11.308788Z"
    }
   },
   "id": "dd8827bfa6d7c110"
  },
  {
   "cell_type": "code",
   "execution_count": 4,
   "outputs": [],
   "source": [
    "df_train = df[df[\"image\"].str.startswith(\"train\")].to_dict(\"records\")\n",
    "df_validate = df[df[\"image\"].str.startswith(\"validate\")].to_dict(\"records\")\n",
    "df_test = df[df[\"image\"].str.startswith(\"test\")].to_dict(\"records\")"
   ],
   "metadata": {
    "collapsed": false,
    "ExecuteTime": {
     "end_time": "2024-07-28T18:02:13.207792Z",
     "start_time": "2024-07-28T18:02:13.194624Z"
    }
   },
   "id": "5a3d7a58e88e7fb5"
  },
  {
   "cell_type": "code",
   "execution_count": 5,
   "outputs": [],
   "source": [
    "features = datasets.Features(\n",
    "    {\n",
    "        \"image\": datasets.Image(),\n",
    "        \"label\": datasets.Value(\"int32\")\n",
    "    }\n",
    ")"
   ],
   "metadata": {
    "collapsed": false,
    "ExecuteTime": {
     "end_time": "2024-07-28T18:02:15.194648Z",
     "start_time": "2024-07-28T18:02:15.188029Z"
    }
   },
   "id": "7b15446f1133cdfd"
  },
  {
   "cell_type": "code",
   "execution_count": 6,
   "outputs": [
    {
     "data": {
      "text/plain": "Casting the dataset:   0%|          | 0/2304 [00:00<?, ? examples/s]",
      "application/vnd.jupyter.widget-view+json": {
       "version_major": 2,
       "version_minor": 0,
       "model_id": "98b9fa121b0247f392fae79e04c99152"
      }
     },
     "metadata": {},
     "output_type": "display_data"
    },
    {
     "data": {
      "text/plain": "Casting the dataset:   0%|          | 0/288 [00:00<?, ? examples/s]",
      "application/vnd.jupyter.widget-view+json": {
       "version_major": 2,
       "version_minor": 0,
       "model_id": "2f410d429337412cbfa0e040b009f411"
      }
     },
     "metadata": {},
     "output_type": "display_data"
    },
    {
     "data": {
      "text/plain": "Casting the dataset:   0%|          | 0/288 [00:00<?, ? examples/s]",
      "application/vnd.jupyter.widget-view+json": {
       "version_major": 2,
       "version_minor": 0,
       "model_id": "c9f44c5a53324b32a83613ee4c66aa99"
      }
     },
     "metadata": {},
     "output_type": "display_data"
    }
   ],
   "source": [
    "train_dataset = datasets.Dataset.from_list(df_train).cast(features)\n",
    "validate_dataset = datasets.Dataset.from_list(df_validate).cast(features)\n",
    "test_dataset = datasets.Dataset.from_list(df_test).cast(features)\n",
    "\n",
    "dataset = datasets.DatasetDict({\n",
    "    \"train\": train_dataset,\n",
    "    \"valid\": validate_dataset,\n",
    "    \"test\": test_dataset\n",
    "})"
   ],
   "metadata": {
    "collapsed": false,
    "ExecuteTime": {
     "end_time": "2024-07-28T18:02:17.792566Z",
     "start_time": "2024-07-28T18:02:17.617419Z"
    }
   },
   "id": "2f9144e95bd0ad72"
  },
  {
   "cell_type": "code",
   "execution_count": 7,
   "outputs": [
    {
     "data": {
      "text/plain": "Uploading the dataset shards:   0%|          | 0/1 [00:00<?, ?it/s]",
      "application/vnd.jupyter.widget-view+json": {
       "version_major": 2,
       "version_minor": 0,
       "model_id": "667d288d8d994180a5b77ae414e41c77"
      }
     },
     "metadata": {},
     "output_type": "display_data"
    },
    {
     "data": {
      "text/plain": "Map:   0%|          | 0/2304 [00:00<?, ? examples/s]",
      "application/vnd.jupyter.widget-view+json": {
       "version_major": 2,
       "version_minor": 0,
       "model_id": "6d5f83d492e04f889fe5d084ed5a2725"
      }
     },
     "metadata": {},
     "output_type": "display_data"
    },
    {
     "data": {
      "text/plain": "Creating parquet from Arrow format:   0%|          | 0/24 [00:00<?, ?ba/s]",
      "application/vnd.jupyter.widget-view+json": {
       "version_major": 2,
       "version_minor": 0,
       "model_id": "7e09aabcf35b4655b01124f46cddf9a2"
      }
     },
     "metadata": {},
     "output_type": "display_data"
    },
    {
     "data": {
      "text/plain": "Uploading the dataset shards:   0%|          | 0/1 [00:00<?, ?it/s]",
      "application/vnd.jupyter.widget-view+json": {
       "version_major": 2,
       "version_minor": 0,
       "model_id": "f2a38c3751a34acaaa76408779ebaff9"
      }
     },
     "metadata": {},
     "output_type": "display_data"
    },
    {
     "data": {
      "text/plain": "Map:   0%|          | 0/288 [00:00<?, ? examples/s]",
      "application/vnd.jupyter.widget-view+json": {
       "version_major": 2,
       "version_minor": 0,
       "model_id": "4ea317e26a27469e9a1df65827fc01ec"
      }
     },
     "metadata": {},
     "output_type": "display_data"
    },
    {
     "data": {
      "text/plain": "Creating parquet from Arrow format:   0%|          | 0/3 [00:00<?, ?ba/s]",
      "application/vnd.jupyter.widget-view+json": {
       "version_major": 2,
       "version_minor": 0,
       "model_id": "c50584649df74c16a16d07d6ea2f260f"
      }
     },
     "metadata": {},
     "output_type": "display_data"
    },
    {
     "data": {
      "text/plain": "Uploading the dataset shards:   0%|          | 0/1 [00:00<?, ?it/s]",
      "application/vnd.jupyter.widget-view+json": {
       "version_major": 2,
       "version_minor": 0,
       "model_id": "660a09e1dc5d4cf9884d3b8bb36659a7"
      }
     },
     "metadata": {},
     "output_type": "display_data"
    },
    {
     "data": {
      "text/plain": "Map:   0%|          | 0/288 [00:00<?, ? examples/s]",
      "application/vnd.jupyter.widget-view+json": {
       "version_major": 2,
       "version_minor": 0,
       "model_id": "4073253b81864dd6919ab9e0bb605e3a"
      }
     },
     "metadata": {},
     "output_type": "display_data"
    },
    {
     "data": {
      "text/plain": "Creating parquet from Arrow format:   0%|          | 0/3 [00:00<?, ?ba/s]",
      "application/vnd.jupyter.widget-view+json": {
       "version_major": 2,
       "version_minor": 0,
       "model_id": "1a5ea97ee5594f2a92697aa86507bdf6"
      }
     },
     "metadata": {},
     "output_type": "display_data"
    },
    {
     "data": {
      "text/plain": "README.md:   0%|          | 0.00/3.39k [00:00<?, ?B/s]",
      "application/vnd.jupyter.widget-view+json": {
       "version_major": 2,
       "version_minor": 0,
       "model_id": "21b9a11015174bf9b58ee443fd57536a"
      }
     },
     "metadata": {},
     "output_type": "display_data"
    },
    {
     "data": {
      "text/plain": "CommitInfo(commit_url='https://huggingface.co/datasets/camfruss/bread_proofing/commit/c2d11483c56927eef4d1d0d41158b95730d67e9f', commit_message='Upload dataset', commit_description='', oid='c2d11483c56927eef4d1d0d41158b95730d67e9f', pr_url=None, pr_revision=None, pr_num=None)"
     },
     "execution_count": 7,
     "metadata": {},
     "output_type": "execute_result"
    }
   ],
   "source": [
    "dataset.push_to_hub(\"camfruss/bread_proofing\")"
   ],
   "metadata": {
    "collapsed": false,
    "ExecuteTime": {
     "end_time": "2024-07-28T18:03:31.236866Z",
     "start_time": "2024-07-28T18:02:30.122301Z"
    }
   },
   "id": "8c40528b9569f352"
  },
  {
   "cell_type": "code",
   "execution_count": null,
   "outputs": [],
   "source": [],
   "metadata": {
    "collapsed": false
   },
   "id": "3dc8586e23b6d247"
  }
 ],
 "metadata": {
  "kernelspec": {
   "display_name": "Python 3",
   "language": "python",
   "name": "python3"
  },
  "language_info": {
   "codemirror_mode": {
    "name": "ipython",
    "version": 2
   },
   "file_extension": ".py",
   "mimetype": "text/x-python",
   "name": "python",
   "nbconvert_exporter": "python",
   "pygments_lexer": "ipython2",
   "version": "2.7.6"
  }
 },
 "nbformat": 4,
 "nbformat_minor": 5
}
