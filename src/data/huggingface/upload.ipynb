{
 "cells": [
  {
   "cell_type": "code",
   "execution_count": 1,
   "id": "initial_id",
   "metadata": {
    "collapsed": true,
    "ExecuteTime": {
     "end_time": "2024-07-02T21:45:05.490313Z",
     "start_time": "2024-07-02T21:45:01.915627Z"
    }
   },
   "outputs": [],
   "source": [
    "import os\n",
    "\n",
    "import datasets\n",
    "from huggingface_hub import HfApi\n",
    "import pandas as pd\n",
    "\n",
    "from dotenv import find_dotenv, load_dotenv\n",
    "env_path = find_dotenv(\".env\")\n",
    "load_dotenv(env_path);"
   ]
  },
  {
   "cell_type": "code",
   "execution_count": 2,
   "outputs": [
    {
     "data": {
      "text/plain": "['.gitattributes', 'README.md']"
     },
     "execution_count": 2,
     "metadata": {},
     "output_type": "execute_result"
    }
   ],
   "source": [
    "token = os.environ.get(\"HUGGING_FACE_TOKEN\")\n",
    "hf_api = HfApi(token=token)\n",
    "\n",
    "repo_id = \"camfruss/bread_proofing\"\n",
    "hf_api.list_repo_files(repo_id, repo_type=\"dataset\")\n",
    "\n",
    "# hf_api.delete_folder(path_in_repo=\"data/\", repo_id=repo_id, repo_type=\"dataset\")\n",
    "# hf_api.delete_file(path_in_repo=\"dataset_script.py\", repo_id=repo_id, repo_type=\"dataset\")"
   ],
   "metadata": {
    "collapsed": false,
    "ExecuteTime": {
     "end_time": "2024-07-02T21:45:07.035553Z",
     "start_time": "2024-07-02T21:45:06.788113Z"
    }
   },
   "id": "2773229c703e5071"
  },
  {
   "cell_type": "code",
   "execution_count": 3,
   "outputs": [],
   "source": [
    "df = pd.read_csv(\"./metadata.csv\")\n",
    "df = df.rename(columns={\"file_name\": \"image\"})"
   ],
   "metadata": {
    "collapsed": false,
    "ExecuteTime": {
     "end_time": "2024-07-02T21:45:09.694738Z",
     "start_time": "2024-07-02T21:45:09.666738Z"
    }
   },
   "id": "dd8827bfa6d7c110"
  },
  {
   "cell_type": "code",
   "execution_count": 4,
   "outputs": [],
   "source": [
    "df_train = df[df[\"image\"].str.startswith(\"train\")].to_dict(\"records\")\n",
    "df_validate = df[df[\"image\"].str.startswith(\"validate\")].to_dict(\"records\")\n",
    "df_test = df[df[\"image\"].str.startswith(\"test\")].to_dict(\"records\")"
   ],
   "metadata": {
    "collapsed": false,
    "ExecuteTime": {
     "end_time": "2024-07-02T21:45:12.544544Z",
     "start_time": "2024-07-02T21:45:12.526174Z"
    }
   },
   "id": "5a3d7a58e88e7fb5"
  },
  {
   "cell_type": "code",
   "execution_count": 5,
   "outputs": [],
   "source": [
    "features = datasets.Features(\n",
    "    {\n",
    "        \"image\": datasets.Image(),\n",
    "        \"upvotes\": datasets.Value(\"int32\"),\n",
    "        \"under_proof\": datasets.Value(\"float16\"),\n",
    "        \"over_proof\": datasets.Value(\"float16\"),\n",
    "        \"perfect_proof\": datasets.Value(\"float16\"),\n",
    "        \"unsure_proof\": datasets.Value(\"float16\")\n",
    "    }\n",
    ")"
   ],
   "metadata": {
    "collapsed": false,
    "ExecuteTime": {
     "end_time": "2024-07-02T21:45:13.647170Z",
     "start_time": "2024-07-02T21:45:13.643300Z"
    }
   },
   "id": "7b15446f1133cdfd"
  },
  {
   "cell_type": "code",
   "execution_count": 6,
   "outputs": [
    {
     "data": {
      "text/plain": "Casting the dataset:   0%|          | 0/3040 [00:00<?, ? examples/s]",
      "application/vnd.jupyter.widget-view+json": {
       "version_major": 2,
       "version_minor": 0,
       "model_id": "9eed14f1beb54f40a5be4f080d59b9f8"
      }
     },
     "metadata": {},
     "output_type": "display_data"
    },
    {
     "data": {
      "text/plain": "Casting the dataset:   0%|          | 0/380 [00:00<?, ? examples/s]",
      "application/vnd.jupyter.widget-view+json": {
       "version_major": 2,
       "version_minor": 0,
       "model_id": "e46642b010ba4ca29bbb97f315f2f0c9"
      }
     },
     "metadata": {},
     "output_type": "display_data"
    },
    {
     "data": {
      "text/plain": "Casting the dataset:   0%|          | 0/381 [00:00<?, ? examples/s]",
      "application/vnd.jupyter.widget-view+json": {
       "version_major": 2,
       "version_minor": 0,
       "model_id": "b05b348c55d4425f9e89287142d87fda"
      }
     },
     "metadata": {},
     "output_type": "display_data"
    }
   ],
   "source": [
    "train_dataset = datasets.Dataset.from_list(df_train).cast(features)\n",
    "validate_dataset = datasets.Dataset.from_list(df_validate).cast(features)\n",
    "test_dataset = datasets.Dataset.from_list(df_test).cast(features)\n",
    "\n",
    "dataset = datasets.DatasetDict({\n",
    "    \"train\": train_dataset,\n",
    "    \"valid\": validate_dataset,\n",
    "    \"test\": test_dataset\n",
    "})"
   ],
   "metadata": {
    "collapsed": false,
    "ExecuteTime": {
     "end_time": "2024-07-02T21:45:17.963448Z",
     "start_time": "2024-07-02T21:45:17.742311Z"
    }
   },
   "id": "2f9144e95bd0ad72"
  },
  {
   "cell_type": "code",
   "execution_count": 7,
   "outputs": [
    {
     "data": {
      "text/plain": "Uploading the dataset shards:   0%|          | 0/1 [00:00<?, ?it/s]",
      "application/vnd.jupyter.widget-view+json": {
       "version_major": 2,
       "version_minor": 0,
       "model_id": "86df3c640ca14ddea951b52d11bc8319"
      }
     },
     "metadata": {},
     "output_type": "display_data"
    },
    {
     "data": {
      "text/plain": "Map:   0%|          | 0/3040 [00:00<?, ? examples/s]",
      "application/vnd.jupyter.widget-view+json": {
       "version_major": 2,
       "version_minor": 0,
       "model_id": "3d0945a25f974b36b06bfd257616a52b"
      }
     },
     "metadata": {},
     "output_type": "display_data"
    },
    {
     "data": {
      "text/plain": "Creating parquet from Arrow format:   0%|          | 0/31 [00:00<?, ?ba/s]",
      "application/vnd.jupyter.widget-view+json": {
       "version_major": 2,
       "version_minor": 0,
       "model_id": "7f889736ef254d2fbaf08d416f2c91a4"
      }
     },
     "metadata": {},
     "output_type": "display_data"
    },
    {
     "data": {
      "text/plain": "Uploading the dataset shards:   0%|          | 0/1 [00:00<?, ?it/s]",
      "application/vnd.jupyter.widget-view+json": {
       "version_major": 2,
       "version_minor": 0,
       "model_id": "377eff5b89fe4b81ae1803e10b7c53c3"
      }
     },
     "metadata": {},
     "output_type": "display_data"
    },
    {
     "data": {
      "text/plain": "Map:   0%|          | 0/380 [00:00<?, ? examples/s]",
      "application/vnd.jupyter.widget-view+json": {
       "version_major": 2,
       "version_minor": 0,
       "model_id": "aa7bf8f76fa148bba80db8a1b1697f37"
      }
     },
     "metadata": {},
     "output_type": "display_data"
    },
    {
     "data": {
      "text/plain": "Creating parquet from Arrow format:   0%|          | 0/4 [00:00<?, ?ba/s]",
      "application/vnd.jupyter.widget-view+json": {
       "version_major": 2,
       "version_minor": 0,
       "model_id": "16af5b8ea75741f9a92572d157b4a191"
      }
     },
     "metadata": {},
     "output_type": "display_data"
    },
    {
     "data": {
      "text/plain": "Uploading the dataset shards:   0%|          | 0/1 [00:00<?, ?it/s]",
      "application/vnd.jupyter.widget-view+json": {
       "version_major": 2,
       "version_minor": 0,
       "model_id": "b9f62834c70146d39002de3e13e4aafb"
      }
     },
     "metadata": {},
     "output_type": "display_data"
    },
    {
     "data": {
      "text/plain": "Map:   0%|          | 0/381 [00:00<?, ? examples/s]",
      "application/vnd.jupyter.widget-view+json": {
       "version_major": 2,
       "version_minor": 0,
       "model_id": "2ce0c968584c4eeab640eadf16852f15"
      }
     },
     "metadata": {},
     "output_type": "display_data"
    },
    {
     "data": {
      "text/plain": "Creating parquet from Arrow format:   0%|          | 0/4 [00:00<?, ?ba/s]",
      "application/vnd.jupyter.widget-view+json": {
       "version_major": 2,
       "version_minor": 0,
       "model_id": "1f4bff33294748838f8a90bdcdba57b8"
      }
     },
     "metadata": {},
     "output_type": "display_data"
    },
    {
     "data": {
      "text/plain": "README.md:   0%|          | 0.00/907 [00:00<?, ?B/s]",
      "application/vnd.jupyter.widget-view+json": {
       "version_major": 2,
       "version_minor": 0,
       "model_id": "d8faf40449ef481f946143ad43ef8d69"
      }
     },
     "metadata": {},
     "output_type": "display_data"
    },
    {
     "data": {
      "text/plain": "CommitInfo(commit_url='https://huggingface.co/datasets/camfruss/bread_proofing/commit/ed643ab45f083cc0e3ca92319c84ee6d8d904b82', commit_message='Upload dataset', commit_description='', oid='ed643ab45f083cc0e3ca92319c84ee6d8d904b82', pr_url=None, pr_revision=None, pr_num=None)"
     },
     "execution_count": 7,
     "metadata": {},
     "output_type": "execute_result"
    }
   ],
   "source": [
    "dataset.push_to_hub(\"camfruss/bread_proofing\")"
   ],
   "metadata": {
    "collapsed": false,
    "ExecuteTime": {
     "end_time": "2024-07-02T21:46:48.432339Z",
     "start_time": "2024-07-02T21:45:29.283729Z"
    }
   },
   "id": "8c40528b9569f352"
  },
  {
   "cell_type": "code",
   "execution_count": null,
   "outputs": [],
   "source": [],
   "metadata": {
    "collapsed": false
   },
   "id": "3dc8586e23b6d247"
  }
 ],
 "metadata": {
  "kernelspec": {
   "display_name": "Python 3",
   "language": "python",
   "name": "python3"
  },
  "language_info": {
   "codemirror_mode": {
    "name": "ipython",
    "version": 2
   },
   "file_extension": ".py",
   "mimetype": "text/x-python",
   "name": "python",
   "nbconvert_exporter": "python",
   "pygments_lexer": "ipython2",
   "version": "2.7.6"
  }
 },
 "nbformat": 4,
 "nbformat_minor": 5
}
