{
 "cells": [
  {
   "cell_type": "markdown",
   "source": [
    "# <center> Bread Proofing & Convolutional Neural Networks </center>"
   ],
   "metadata": {
    "collapsed": false
   },
   "id": "cc6e24d362c3a24b"
  },
  {
   "cell_type": "code",
   "execution_count": 1,
   "outputs": [],
   "source": [
    "import torch\n",
    "from torch import nn\n",
    "from torch.optim.lr_scheduler import StepLR\n",
    "from torch.utils.data import DataLoader\n",
    "from torchvision.transforms import v2\n",
    "from torchvision.transforms.functional import to_pil_image\n",
    "\n",
    "import matplotlib.pyplot as plt\n",
    "from matplotlib.ticker import MaxNLocator\n",
    "import numpy as np\n",
    "from torchcam.methods import SmoothGradCAMpp\n",
    "from torchcam.utils import overlay_mask\n",
    "from torchinfo import summary\n",
    "from tqdm.notebook import tqdm"
   ],
   "metadata": {
    "collapsed": false,
    "ExecuteTime": {
     "end_time": "2024-08-01T19:17:50.271202Z",
     "start_time": "2024-08-01T19:17:45.971255Z"
    }
   },
   "id": "initial_id"
  },
  {
   "cell_type": "code",
   "execution_count": 2,
   "outputs": [],
   "source": [
    "%load_ext autoreload\n",
    "%autoreload 2\n",
    "from architecture import ConvolutionalNN, EarlyStopper, ImageDataset"
   ],
   "metadata": {
    "collapsed": false,
    "ExecuteTime": {
     "end_time": "2024-08-01T19:17:54.026158Z",
     "start_time": "2024-08-01T19:17:52.297658Z"
    }
   },
   "id": "39a251c1d9f4711f"
  },
  {
   "cell_type": "markdown",
   "source": [
    "For experiments, we are going to track the following hyperparameters: "
   ],
   "metadata": {
    "collapsed": false
   },
   "id": "c354eb0ca479b108"
  },
  {
   "cell_type": "code",
   "execution_count": 3,
   "outputs": [],
   "source": [
    "batch_size = 2**8\n",
    "epochs = 32\n",
    "learning_rate = 1e-3\n",
    "is_grayscale = False\n",
    "dim = 2**6  # w, h of images"
   ],
   "metadata": {
    "collapsed": false,
    "ExecuteTime": {
     "end_time": "2024-08-01T19:17:56.098029Z",
     "start_time": "2024-08-01T19:17:56.063246Z"
    }
   },
   "id": "72bac7c81437211"
  },
  {
   "cell_type": "code",
   "execution_count": 4,
   "outputs": [],
   "source": [
    "policies = [\n",
    "    v2.AutoAugmentPolicy.CIFAR10,\n",
    "    v2.AutoAugmentPolicy.IMAGENET,\n",
    "    v2.AutoAugmentPolicy.SVHN\n",
    "]\n",
    "images_per_policy = 4\n",
    "\n",
    "train_ds = ImageDataset(dim, split=\"train\", is_grayscale=is_grayscale, augmented=True, policies=policies, images_per_policy=images_per_policy)\n",
    "valid_ds = ImageDataset(dim, split=\"valid\", is_grayscale=is_grayscale)\n",
    "test_ds = ImageDataset(dim, split=\"test\", is_grayscale=is_grayscale)\n",
    "\n",
    "train_dl = DataLoader(train_ds, batch_size=batch_size, shuffle=True)\n",
    "valid_dl = DataLoader(valid_ds, batch_size=batch_size, shuffle=True)\n",
    "test_dl = DataLoader(test_ds, batch_size=batch_size, shuffle=True)"
   ],
   "metadata": {
    "collapsed": false,
    "ExecuteTime": {
     "end_time": "2024-08-01T19:18:14.890206Z",
     "start_time": "2024-08-01T19:18:00.249793Z"
    }
   },
   "id": "9d0c11d89f84b648"
  },
  {
   "cell_type": "code",
   "execution_count": 5,
   "outputs": [
    {
     "name": "stdout",
     "output_type": "stream",
     "text": [
      "Using cpu device\n",
      "==========================================================================================\n",
      "Layer (type:depth-idx)                   Output Shape              Param #\n",
      "==========================================================================================\n",
      "ConvolutionalNN                          [256, 3]                  --\n",
      "├─Sequential: 1-1                        [256, 3]                  --\n",
      "│    └─Conv2d: 2-1                       [256, 48, 32, 32]         3,648\n",
      "│    └─ReLU: 2-2                         [256, 48, 32, 32]         --\n",
      "│    └─BatchNorm2d: 2-3                  [256, 48, 32, 32]         96\n",
      "│    └─MaxPool2d: 2-4                    [256, 48, 16, 16]         --\n",
      "│    └─Conv2d: 2-5                       [256, 96, 16, 16]         41,568\n",
      "│    └─ReLU: 2-6                         [256, 96, 16, 16]         --\n",
      "│    └─BatchNorm2d: 2-7                  [256, 96, 16, 16]         192\n",
      "│    └─MaxPool2d: 2-8                    [256, 96, 8, 8]           --\n",
      "│    └─Conv2d: 2-9                       [256, 128, 8, 8]          110,720\n",
      "│    └─ReLU: 2-10                        [256, 128, 8, 8]          --\n",
      "│    └─BatchNorm2d: 2-11                 [256, 128, 8, 8]          256\n",
      "│    └─Conv2d: 2-12                      [256, 128, 8, 8]          147,584\n",
      "│    └─ReLU: 2-13                        [256, 128, 8, 8]          --\n",
      "│    └─BatchNorm2d: 2-14                 [256, 128, 8, 8]          256\n",
      "│    └─Conv2d: 2-15                      [256, 32, 8, 8]           36,896\n",
      "│    └─ReLU: 2-16                        [256, 32, 8, 8]           --\n",
      "│    └─MaxPool2d: 2-17                   [256, 32, 4, 4]           --\n",
      "│    └─Flatten: 2-18                     [256, 512]                --\n",
      "│    └─Linear: 2-19                      [256, 128]                65,664\n",
      "│    └─ReLU: 2-20                        [256, 128]                --\n",
      "│    └─Dropout: 2-21                     [256, 128]                --\n",
      "│    └─BatchNorm1d: 2-22                 [256, 128]                256\n",
      "│    └─Linear: 2-23                      [256, 32]                 4,128\n",
      "│    └─ReLU: 2-24                        [256, 32]                 --\n",
      "│    └─Dropout: 2-25                     [256, 32]                 --\n",
      "│    └─BatchNorm1d: 2-26                 [256, 32]                 64\n",
      "│    └─Linear: 2-27                      [256, 3]                  99\n",
      "==========================================================================================\n",
      "Total params: 411,427\n",
      "Trainable params: 411,427\n",
      "Non-trainable params: 0\n",
      "Total mult-adds (G): 8.54\n",
      "==========================================================================================\n",
      "Input size (MB): 12.58\n",
      "Forward/backward pass size (MB): 373.95\n",
      "Params size (MB): 1.65\n",
      "Estimated Total Size (MB): 388.18\n",
      "==========================================================================================\n"
     ]
    }
   ],
   "source": [
    "device = (\n",
    "    \"cuda\"\n",
    "    if torch.cuda.is_available()\n",
    "    else \"mps\"\n",
    "    if torch.backends.mps.is_available()\n",
    "    else \"cpu\"\n",
    ")\n",
    "print(f\"Using {device} device\")\n",
    "\n",
    "model = ConvolutionalNN().to(device)\n",
    "num_channels = 1 if is_grayscale else 3\n",
    "print(summary(model, input_size=(batch_size, num_channels, dim, dim)))"
   ],
   "metadata": {
    "collapsed": false,
    "ExecuteTime": {
     "end_time": "2024-08-01T19:18:30.478697Z",
     "start_time": "2024-08-01T19:18:29.931295Z"
    }
   },
   "id": "209f79cb0a1eaff7"
  },
  {
   "cell_type": "code",
   "execution_count": 6,
   "outputs": [],
   "source": [
    "weight = train_ds.df[\"label\"].value_counts().to_numpy()\n",
    "weight = torch.from_numpy(train_ds.df.shape[0] / len(weight) / weight).float()\n",
    "\n",
    "loss_fn = nn.CrossEntropyLoss(weight=weight)\n",
    "optimizer = torch.optim.Adam(model.parameters(), lr=learning_rate)  # OR: SGD\n",
    "scheduler = StepLR(optimizer, step_size=10, gamma=0.1)\n",
    "\n",
    "early_stopper = EarlyStopper(patience=3, min_delta=0.3)"
   ],
   "metadata": {
    "collapsed": false,
    "ExecuteTime": {
     "end_time": "2024-08-01T19:21:04.662516Z",
     "start_time": "2024-08-01T19:21:04.549158Z"
    }
   },
   "id": "63afee6926f66aa0"
  },
  {
   "cell_type": "code",
   "execution_count": 7,
   "outputs": [],
   "source": [
    "def train(dataloader, model, loss_fn, optimizer):\n",
    "    model.train()\n",
    "    \n",
    "    for idx, (X, y) in enumerate(tqdm(dataloader)):\n",
    "        optimizer.zero_grad()\n",
    "    \n",
    "        pred = model(X)\n",
    "        loss = loss_fn(pred, y)\n",
    "        loss.backward()\n",
    "        optimizer.step()\n",
    "            \n",
    "    scheduler.step()\n",
    "\n",
    "\n",
    "def test(dataloader, model, loss_fn, split=\"Validation\"):\n",
    "    model.eval()\n",
    "    \n",
    "    size = len(dataloader.dataset)\n",
    "    num_batches = len(dataloader)\n",
    "    test_loss, correct = 0, 0\n",
    "    with torch.no_grad():\n",
    "        for X, y in dataloader:\n",
    "            pred = model(X)\n",
    "            test_loss += loss_fn(pred, y).item()\n",
    "            correct += (pred.argmax(1) == y).type(torch.float).sum().item()\n",
    "\n",
    "    test_loss /= num_batches\n",
    "    correct = correct * 100 / size  # percent correct\n",
    "    return correct, test_loss\n",
    "    \n",
    "\n",
    "def main():    \n",
    "    training_loss = []\n",
    "    validation_loss = []\n",
    "\n",
    "    for _ in tqdm(range(epochs), desc=\"Epochs\"):\n",
    "        train(train_dl, model, loss_fn, optimizer)\n",
    "        \n",
    "        ta, tl = test(train_dl, model, loss_fn, split=\"Train\")\n",
    "        va, vl = test(valid_dl, model, loss_fn)\n",
    "        training_loss.append(tl); validation_loss.append(vl)\n",
    "        if early_stopper.early_stop(vl):             \n",
    "            break\n",
    "    \n",
    "    # Plot the training loss alongside the validation loss\n",
    "    fig, ax = plt.subplots()\n",
    "    x = np.arange(1, len(training_loss) + 1)  # not epochs, as could have early stop\n",
    "    ax.plot(x, training_loss, label=\"Training Loss\")\n",
    "    ax.plot(x, validation_loss, label=\"Validation Loss\")\n",
    "    ax.set_xlabel(\"Epoch\")\n",
    "    ax.set_ylabel(\"Loss\")\n",
    "    ax.xaxis.set_major_locator(MaxNLocator(integer=True))\n",
    "    ax.legend()\n",
    "    \n",
    "    test(test_dl, model, loss_fn, split=\"Test\")"
   ],
   "metadata": {
    "collapsed": false,
    "ExecuteTime": {
     "end_time": "2024-08-01T19:21:13.438727Z",
     "start_time": "2024-08-01T19:21:13.396238Z"
    }
   },
   "id": "ac9b89b8847f616a"
  },
  {
   "cell_type": "code",
   "execution_count": null,
   "outputs": [],
   "source": [
    "main()\n",
    "\n",
    "torch.save(model.state_dict(), \"./breadrx-cnn.pth\")"
   ],
   "metadata": {
    "collapsed": false
   },
   "id": "d8ef5cc91024437f"
  },
  {
   "cell_type": "markdown",
   "source": [
    "To visualize how different regions of the input image are affecting the predicted label, we use class activation mapping on the last layer."
   ],
   "metadata": {
    "collapsed": false
   },
   "id": "271a00d1b5036382"
  },
  {
   "cell_type": "code",
   "execution_count": null,
   "outputs": [],
   "source": [
    "model.eval()\n",
    "\n",
    "results = []\n",
    "input_shape = test_dl.dataset[0][0].shape\n",
    "with SmoothGradCAMpp(model, target_layer=\"cnn.16\", input_shape=input_shape) as cam_extractor:\n",
    "    for i in range(12):\n",
    "        im, _ = test_dl.dataset[i]\n",
    "        out = model(im.unsqueeze(0))\n",
    "        activation_map = cam_extractor(out.squeeze(0).argmax().item(), out)\n",
    "\n",
    "        results.append(overlay_mask(\n",
    "            to_pil_image(im), \n",
    "            to_pil_image(activation_map[0].squeeze(0), mode=\"F\"), \n",
    "            alpha=0.8\n",
    "        ))\n",
    "\n",
    "fig, axs = plt.subplots(3, 4)\n",
    "for idx, ax in enumerate(axs.flat):\n",
    "    ax.imshow(results[idx])\n",
    "    ax.axis(\"off\")\n",
    "fig.suptitle(\"Class Activation Map\")\n",
    "plt.tight_layout()\n",
    "fig.savefig(\"./cam.png\")\n",
    "plt.show()"
   ],
   "metadata": {
    "collapsed": false
   },
   "id": "3a2a08f22480da35"
  },
  {
   "cell_type": "code",
   "execution_count": null,
   "outputs": [],
   "source": [],
   "metadata": {
    "collapsed": false
   },
   "id": "87bb84082cdf220e"
  }
 ],
 "metadata": {
  "kernelspec": {
   "display_name": "Python 3",
   "language": "python",
   "name": "python3"
  },
  "language_info": {
   "codemirror_mode": {
    "name": "ipython",
    "version": 2
   },
   "file_extension": ".py",
   "mimetype": "text/x-python",
   "name": "python",
   "nbconvert_exporter": "python",
   "pygments_lexer": "ipython2",
   "version": "2.7.6"
  }
 },
 "nbformat": 4,
 "nbformat_minor": 5
}
