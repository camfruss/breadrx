{
 "cells": [
  {
   "cell_type": "code",
   "execution_count": 22,
   "id": "initial_id",
   "metadata": {
    "collapsed": true,
    "ExecuteTime": {
     "end_time": "2024-07-13T20:45:34.076726Z",
     "start_time": "2024-07-13T20:45:34.070895Z"
    }
   },
   "outputs": [],
   "source": [
    "from datasets import Dataset, load_dataset\n",
    "\n",
    "import torch\n",
    "from torch import nn\n",
    "from torch.utils.data import DataLoader\n",
    "from torchvision.transforms import v2"
   ]
  },
  {
   "cell_type": "code",
   "execution_count": 21,
   "outputs": [],
   "source": [
    "# Hyper-parameters\n",
    "\n",
    "learning_rate = 1e-3\n",
    "batch_size = 64"
   ],
   "metadata": {
    "collapsed": false,
    "ExecuteTime": {
     "end_time": "2024-07-13T20:43:24.857700Z",
     "start_time": "2024-07-13T20:43:24.851068Z"
    }
   },
   "id": "72bac7c81437211"
  },
  {
   "cell_type": "code",
   "execution_count": 10,
   "outputs": [],
   "source": [
    "# Import data\n",
    "dataset = load_dataset(\"camfruss/bread_proofing\")\n",
    "\n",
    "train_ds = dataset[\"train\"]\n",
    "valid_ds = dataset[\"valid\"]\n",
    "test_ds = dataset[\"test\"]"
   ],
   "metadata": {
    "collapsed": false,
    "ExecuteTime": {
     "start_time": "2024-07-13T17:57:32.697605Z"
    }
   },
   "id": "20729644837a3bb6"
  },
  {
   "cell_type": "code",
   "execution_count": 23,
   "outputs": [
    {
     "data": {
      "text/plain": "Dataset({\n    features: ['image', 'upvotes', 'under_proof', 'over_proof', 'perfect_proof', 'unsure_proof'],\n    num_rows: 381\n})"
     },
     "execution_count": 23,
     "metadata": {},
     "output_type": "execute_result"
    }
   ],
   "source": [
    "# modify so labels in correct format [0, 0, 0, 0]\n",
    "test_ds"
   ],
   "metadata": {
    "collapsed": false,
    "ExecuteTime": {
     "start_time": "2024-07-13T20:48:55.877110Z"
    }
   },
   "id": "ac5a1dd0aecbadc6"
  },
  {
   "cell_type": "code",
   "execution_count": null,
   "outputs": [],
   "source": [
    "dataset = Dataset.from_dict({\"data\": data, \"label\": label}).with_format(\"torch\")\n",
    "train_dl = DataLoader(dataset, batch_size=batch_size)\n",
    "\n",
    "dataset = Dataset.from_dict({\"data\": data, \"label\": label}).with_format(\"torch\")\n",
    "valid_dl = DataLoader(dataset, batch_size=batch_size)\n",
    "\n",
    "dataset = Dataset.from_dict({\"data\": data, \"label\": label}).with_format(\"torch\")\n",
    "test_dl = DataLoader(dataset, batch_size=batch_size)\n",
    "\n",
    "del dataset\n",
    "del train_ds\n",
    "del valid_ds\n",
    "del test_ds"
   ],
   "metadata": {
    "collapsed": false
   },
   "id": "9ea5632665c99f3f"
  },
  {
   "cell_type": "code",
   "execution_count": 17,
   "outputs": [],
   "source": [
    "dim = 2**7\n",
    "out_channels = 16\n",
    "fc_features = out_channels * dim // 4\n",
    "\n",
    "class ConvolutionalNN(nn.Module):\n",
    "    def __init__(self):\n",
    "        super().__init__()\n",
    "        self.cnn = nn.Sequential(\n",
    "            v2.Grayscale(),\n",
    "            v2.Resize((dim, dim)),\n",
    "            \n",
    "            nn.Conv2d(in_channels=1, out_channels=8, kernel_size=5, stride=1),  # default padding of 0s\n",
    "            nn.ReLU(),\n",
    "            nn.MaxPool2d(kernel_size=2, stride=2),  # halves\n",
    "            \n",
    "            nn.Conv2d(in_channels=8, out_channels=out_channels, kernel_size=5, stride=1),\n",
    "            nn.ReLU(),\n",
    "            nn.MaxPool2d(kernel_size=2, stride=2),  # halves\n",
    "            \n",
    "            nn.Flatten(),\n",
    "            \n",
    "            nn.Linear(in_features=fc_features, out_features=fc_features // 4),\n",
    "            nn.ReLU(),\n",
    "            \n",
    "            nn.Linear(in_features=fc_features // 4, out_features=4),\n",
    "            nn.Softmax()\n",
    "        )\n",
    "\n",
    "    def forward(self, x):\n",
    "        return self.cnn(x)"
   ],
   "metadata": {
    "collapsed": false,
    "ExecuteTime": {
     "start_time": "2024-07-13T20:36:48.286337Z"
    }
   },
   "id": "b6d0bce81d3a05f7"
  },
  {
   "cell_type": "code",
   "execution_count": 19,
   "outputs": [
    {
     "name": "stdout",
     "output_type": "stream",
     "text": [
      "ConvolutionalNN(\n",
      "  (cnn): Sequential(\n",
      "    (0): Grayscale(num_output_channels=1)\n",
      "    (1): Resize(size=[128, 128], interpolation=InterpolationMode.BILINEAR, antialias=True)\n",
      "    (2): Conv2d(1, 8, kernel_size=(5, 5), stride=(1, 1))\n",
      "    (3): ReLU()\n",
      "    (4): MaxPool2d(kernel_size=2, stride=2, padding=0, dilation=1, ceil_mode=False)\n",
      "    (5): Conv2d(8, 16, kernel_size=(5, 5), stride=(1, 1))\n",
      "    (6): ReLU()\n",
      "    (7): MaxPool2d(kernel_size=2, stride=2, padding=0, dilation=1, ceil_mode=False)\n",
      "    (8): Flatten(start_dim=1, end_dim=-1)\n",
      "    (9): Linear(in_features=512, out_features=128, bias=True)\n",
      "    (10): ReLU()\n",
      "    (11): Linear(in_features=128, out_features=4, bias=True)\n",
      "    (12): Softmax(dim=None)\n",
      "  )\n",
      ")\n"
     ]
    }
   ],
   "source": [
    "device = (\n",
    "    \"cuda\"\n",
    "    if torch.cuda.is_available()\n",
    "    else \"mps\"\n",
    "    if torch.backends.mps.is_available()\n",
    "    else \"cpu\"\n",
    ")\n",
    "print(f\"Using {device} device\")\n",
    "\n",
    "model = ConvolutionalNN().to(device)"
   ],
   "metadata": {
    "collapsed": false,
    "ExecuteTime": {
     "start_time": "2024-07-13T20:38:16.619083Z"
    }
   },
   "id": "131c7803ea7014da"
  },
  {
   "cell_type": "code",
   "execution_count": null,
   "outputs": [],
   "source": [
    "loss_fn = nn.CrossEntropyLoss()\n",
    "optimizer = torch.optim.Adam(model.parameters(), lr=learning_rate)"
   ],
   "metadata": {
    "collapsed": false
   },
   "id": "6e7d92ade6680848"
  },
  {
   "cell_type": "code",
   "execution_count": 25,
   "outputs": [],
   "source": [
    "def train(dataloader):\n",
    "    model.train()\n",
    "    \n",
    "    size = len(dataloader.dataset)\n",
    "    for idx, (X, y) in enumerate(dataloader):\n",
    "        optimizer.zero_grad()\n",
    "    \n",
    "        pred = model(X)\n",
    "        loss = loss_fn(pred, y)\n",
    "        loss.backward()\n",
    "        optimizer.step()\n",
    "        \n",
    "        if idx % 100 == 0:\n",
    "            loss, current = loss.item(), idx * batch_size + len(X)\n",
    "            print(f\"loss: {loss:>7f}  [{current:>5d}/{size:>5d}]\")"
   ],
   "metadata": {
    "collapsed": false,
    "ExecuteTime": {
     "end_time": "2024-07-13T21:04:40.513426Z",
     "start_time": "2024-07-13T21:04:40.508202Z"
    }
   },
   "id": "6fd78d8adc0371df"
  },
  {
   "cell_type": "code",
   "execution_count": 26,
   "outputs": [],
   "source": [
    "def test(dataloader, split=\"Validation\"):\n",
    "    model.eval()\n",
    "    \n",
    "    size = len(dataloader.dataset)\n",
    "    num_batches = len(dataloader)\n",
    "    test_loss, correct = 0, 0\n",
    "    with torch.no_grad():\n",
    "        for X, y in dataloader:\n",
    "            pred = model(X)\n",
    "            \n",
    "            test_loss += loss_fn(pred, y).item()\n",
    "            correct += (pred.argmax(1) == y).type(torch.float).sum().item()\n",
    "\n",
    "    test_loss /= num_batches\n",
    "    correct /= size\n",
    "    print(f\"{split} Error: \\n Accuracy: {(100*correct):>0.1f}%, Avg loss: {test_loss:>8f} \\n\")     "
   ],
   "metadata": {
    "collapsed": false,
    "ExecuteTime": {
     "end_time": "2024-07-13T21:04:41.121048Z",
     "start_time": "2024-07-13T21:04:41.117463Z"
    }
   },
   "id": "ac9b89b8847f616a"
  },
  {
   "cell_type": "code",
   "execution_count": null,
   "outputs": [],
   "source": [
    "epochs = 10\n",
    "\n",
    "for t in range(epochs):\n",
    "    print(f\"Epoch {t+1}\\n{20*'-'}\")\n",
    "    train(train_dl)\n",
    "    test(valid_dl)\n",
    "\n",
    "print(f\"Completed {epochs} epochs!\")\n",
    "\n",
    "test(test_dl, split=\"Test\")"
   ],
   "metadata": {
    "collapsed": false
   },
   "id": "1e9f4c66d727e82"
  },
  {
   "cell_type": "code",
   "execution_count": null,
   "outputs": [],
   "source": [],
   "metadata": {
    "collapsed": false
   },
   "id": "66417283511c67ab"
  }
 ],
 "metadata": {
  "kernelspec": {
   "display_name": "Python 3",
   "language": "python",
   "name": "python3"
  },
  "language_info": {
   "codemirror_mode": {
    "name": "ipython",
    "version": 2
   },
   "file_extension": ".py",
   "mimetype": "text/x-python",
   "name": "python",
   "nbconvert_exporter": "python",
   "pygments_lexer": "ipython2",
   "version": "2.7.6"
  }
 },
 "nbformat": 4,
 "nbformat_minor": 5
}
